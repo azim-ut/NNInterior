{
 "cells": [
  {
   "cell_type": "code",
   "execution_count": 1,
   "metadata": {},
   "outputs": [],
   "source": [
    "import cv2\n",
    "import json\n",
    "import numpy as np\n",
    "from os import listdir\n",
    "from os.path import isfile, join"
   ]
  },
  {
   "cell_type": "code",
   "execution_count": 2,
   "metadata": {},
   "outputs": [],
   "source": [
    "def sigmoid(x):\n",
    "    return 1/(1 + np.exp(-x))\n",
    "\n",
    "def sigmoid_derevative(x):\n",
    "    return x * (1 - x)\n",
    "        \n",
    "\n",
    "def getTrainingData():\n",
    "    res = []\n",
    "    answers = []\n",
    "    list = [f for f in listdir('img') if isfile(join('img/', f))]\n",
    "    with open('answers.json') as json_file:\n",
    "        answers = json.load(json_file)\n",
    "    for file in list:\n",
    "        points = []\n",
    "        for asw in answers:\n",
    "            if asw['file'] == file:\n",
    "                points = asw['points']\n",
    "        res.append({\n",
    "            'file': file,\n",
    "            'img': cv2.imread(join('img/', file), 0),\n",
    "            'points': points\n",
    "        })\n",
    "    return res"
   ]
  },
  {
   "cell_type": "code",
   "execution_count": 3,
   "metadata": {},
   "outputs": [
    {
     "name": "stdout",
     "output_type": "stream",
     "text": [
      "Random starting synaptic weights:\n",
      "[[-0.16595599  0.44064899 -0.99977125 ... -0.84074784  0.96563423\n",
      "  -0.6367743 ]\n",
      " [ 0.6237174   0.74992329  0.3768265  ... -0.2458348  -0.94674423\n",
      "  -0.77815926]\n",
      " [ 0.34912805  0.59955307 -0.83894095 ...  0.10553519  0.77826218\n",
      "  -0.2900943 ]\n",
      " ...\n",
      " [-0.14447614  0.89495545  0.81018907 ...  0.26243063  0.17960717\n",
      "   0.82681419]\n",
      " [-0.48644716  0.73324301  0.22740219 ... -0.89775717  0.48378355\n",
      "   0.18167195]\n",
      " [-0.34870642 -0.74428188 -0.55276084 ...  0.6570714   0.20947332\n",
      "   0.30221866]]\n"
     ]
    },
    {
     "ename": "ValueError",
     "evalue": "operands could not be broadcast together with shapes (66,) (66,300,300) ",
     "output_type": "error",
     "traceback": [
      "\u001b[1;31m---------------------------------------------------------------------------\u001b[0m",
      "\u001b[1;31mValueError\u001b[0m                                Traceback (most recent call last)",
      "\u001b[1;32m<ipython-input-3-735d1f592ba1>\u001b[0m in \u001b[0;36m<module>\u001b[1;34m\u001b[0m\n\u001b[0;32m     19\u001b[0m     \u001b[0moutputs\u001b[0m \u001b[1;33m=\u001b[0m \u001b[0msigmoid\u001b[0m\u001b[1;33m(\u001b[0m\u001b[0mnp\u001b[0m\u001b[1;33m.\u001b[0m\u001b[0mdot\u001b[0m\u001b[1;33m(\u001b[0m\u001b[0minput_layer\u001b[0m\u001b[1;33m,\u001b[0m \u001b[0msynaptic_weights\u001b[0m\u001b[1;33m)\u001b[0m\u001b[1;33m)\u001b[0m\u001b[1;33m\u001b[0m\u001b[1;33m\u001b[0m\u001b[0m\n\u001b[0;32m     20\u001b[0m \u001b[1;33m\u001b[0m\u001b[0m\n\u001b[1;32m---> 21\u001b[1;33m     \u001b[0merror\u001b[0m \u001b[1;33m=\u001b[0m \u001b[0mtraining_outputs\u001b[0m \u001b[1;33m-\u001b[0m \u001b[0moutputs\u001b[0m\u001b[1;33m\u001b[0m\u001b[1;33m\u001b[0m\u001b[0m\n\u001b[0m\u001b[0;32m     22\u001b[0m     \u001b[0madjustments\u001b[0m \u001b[1;33m=\u001b[0m \u001b[0merror\u001b[0m \u001b[1;33m-\u001b[0m \u001b[0msigmoid_derivative\u001b[0m\u001b[1;33m(\u001b[0m\u001b[0moutputs\u001b[0m\u001b[1;33m)\u001b[0m\u001b[1;33m\u001b[0m\u001b[1;33m\u001b[0m\u001b[0m\n\u001b[0;32m     23\u001b[0m     \u001b[0msynaptic_weights\u001b[0m \u001b[1;33m=\u001b[0m \u001b[0mnp\u001b[0m\u001b[1;33m.\u001b[0m\u001b[0mdot\u001b[0m\u001b[1;33m(\u001b[0m\u001b[0minput_layer\u001b[0m\u001b[1;33m.\u001b[0m\u001b[0mT\u001b[0m\u001b[1;33m,\u001b[0m \u001b[0madjustments\u001b[0m\u001b[1;33m)\u001b[0m\u001b[1;33m\u001b[0m\u001b[1;33m\u001b[0m\u001b[0m\n",
      "\u001b[1;31mValueError\u001b[0m: operands could not be broadcast together with shapes (66,) (66,300,300) "
     ]
    }
   ],
   "source": [
    "data = getTrainingData()\n",
    "training_inputs = []\n",
    "training_outputs = []\n",
    "for i, row in enumerate(data):\n",
    "    training_inputs.append(row['img'])\n",
    "    training_outputs.append(row['points'])\n",
    "    \n",
    "training_inputs = np.array(training_inputs)\n",
    "training_outputs = np.array(training_outputs).T\n",
    "np.random.seed(1)\n",
    "\n",
    "synaptic_weights = 2 * np.random.random((300, 300)) - 1\n",
    "\n",
    "print(\"Random starting synaptic weights:\")\n",
    "print(synaptic_weights)\n",
    "\n",
    "for iteration in range(1):\n",
    "    input_layer = training_inputs\n",
    "    outputs = sigmoid(np.dot(input_layer, synaptic_weights))\n",
    "\n",
    "    error = training_outputs - outputs\n",
    "    adjustments = error - sigmoid_derivative(outputs)\n",
    "    synaptic_weights = np.dot(input_layer.T, adjustments)\n",
    "    \n",
    "print('Synaptic weights after training')\n",
    "print(synaptic_weigths)\n",
    "    \n",
    "print('Outputs: after training: ')\n",
    "print(len(outputs))"
   ]
  }
 ],
 "metadata": {
  "kernelspec": {
   "display_name": "Python 3",
   "language": "python",
   "name": "python3"
  },
  "language_info": {
   "codemirror_mode": {
    "name": "ipython",
    "version": 3
   },
   "file_extension": ".py",
   "mimetype": "text/x-python",
   "name": "python",
   "nbconvert_exporter": "python",
   "pygments_lexer": "ipython3",
   "version": "3.7.1"
  }
 },
 "nbformat": 4,
 "nbformat_minor": 2
}
