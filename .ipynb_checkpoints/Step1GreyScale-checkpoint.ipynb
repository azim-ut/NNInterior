{
 "cells": [
  {
   "cell_type": "code",
   "execution_count": 1,
   "metadata": {},
   "outputs": [],
   "source": [
    "import cv2\n",
    "import numpy as np\n",
    "from pathlib import Path\n",
    "from os import listdir\n",
    "from os.path import isfile, join"
   ]
  },
  {
   "cell_type": "code",
   "execution_count": 2,
   "metadata": {},
   "outputs": [],
   "source": [
    "def empty():\n",
    "    pass\n",
    "IMAGE_SIZE_R = 512\n",
    "IMAGE_SIZE_C = 512\n",
    "\n",
    "onlyfiles = [f for f in listdir('imgSrc') if isfile(join('imgSrc/', f))]\n",
    "for file in onlyfiles:\n",
    "    pathFrom = join('imgSrc/', file)\n",
    "    pathTo = join('img/', file)\n",
    "    if Path(pathTo).is_file():\n",
    "        continue\n",
    "    else:\n",
    "        img = cv2.imread(pathFrom, cv2.IMREAD_COLOR)\n",
    "        height, width, channels = img.shape\n",
    "        norm_img = np.zeros((width,height))\n",
    "        cv2.normalize(img, norm_img, alpha=0, beta=1, norm_type=cv2.NORM_MINMAX, dtype=cv2.CV_32F)\n",
    "        img = cv2.resize(img, (IMAGE_SIZE_R, IMAGE_SIZE_C))\n",
    "        img = cv2.imwrite(pathTo, img)\n"
   ]
  },
  {
   "cell_type": "code",
   "execution_count": null,
   "metadata": {},
   "outputs": [],
   "source": []
  }
 ],
 "metadata": {
  "kernelspec": {
   "display_name": "Python 3",
   "language": "python",
   "name": "python3"
  },
  "language_info": {
   "codemirror_mode": {
    "name": "ipython",
    "version": 3
   },
   "file_extension": ".py",
   "mimetype": "text/x-python",
   "name": "python",
   "nbconvert_exporter": "python",
   "pygments_lexer": "ipython3",
   "version": "3.7.1"
  }
 },
 "nbformat": 4,
 "nbformat_minor": 2
}
